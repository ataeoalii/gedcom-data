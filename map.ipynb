{
 "cells": [
  {
   "cell_type": "code",
   "execution_count": 40,
   "metadata": {},
   "outputs": [
    {
     "data": {
      "text/plain": [
       "'Hawaii'"
      ]
     },
     "execution_count": 40,
     "metadata": {},
     "output_type": "execute_result"
    }
   ],
   "source": [
    "from ipyleaflet import Map, Marker\n",
    "import geocoder\n",
    "\n",
    "basic_map = Map(zoom=6.5, center=(20.6, -157))\n",
    "\n",
    "(x,y,city,state,country) = geocoder.osm('Honolulu, Hi').osm.values()\n",
    "state\n",
    "\n",
    "# latlng = [loc.lat, loc.lng]\n",
    "\n",
    "# marker = Marker(latlng=latlng, title='Honolulu')\n",
    "# basic_map.add_layer(marker)\n",
    "# basic_map"
   ]
  }
 ],
 "metadata": {
  "kernelspec": {
   "display_name": "Python 3.9.13 64-bit",
   "language": "python",
   "name": "python3"
  },
  "language_info": {
   "name": "python",
   "version": "3.9.13"
  },
  "orig_nbformat": 4,
  "vscode": {
   "interpreter": {
    "hash": "b0fa6594d8f4cbf19f97940f81e996739fb7646882a419484c72d19e05852a7e"
   }
  }
 },
 "nbformat": 4,
 "nbformat_minor": 2
}
